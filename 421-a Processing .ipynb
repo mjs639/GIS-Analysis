{
 "cells": [
  {
   "cell_type": "code",
   "execution_count": 2,
   "metadata": {},
   "outputs": [],
   "source": [
    "import pandas as pd"
   ]
  },
  {
   "cell_type": "markdown",
   "metadata": {},
   "source": [
    "-----"
   ]
  },
  {
   "cell_type": "markdown",
   "metadata": {},
   "source": [
    "# Import each borough to produce cleaned CSV"
   ]
  },
  {
   "cell_type": "code",
   "execution_count": 263,
   "metadata": {},
   "outputs": [],
   "source": [
    "df = pd.read_csv(\"Queens421a.csv\")"
   ]
  },
  {
   "cell_type": "code",
   "execution_count": 264,
   "metadata": {},
   "outputs": [
    {
     "data": {
      "text/html": [
       "<div>\n",
       "<table border=\"1\" class=\"dataframe\">\n",
       "  <thead>\n",
       "    <tr style=\"text-align: right;\">\n",
       "      <th></th>\n",
       "      <th>BOROUGH</th>\n",
       "      <th>NEIGHBORHOOD</th>\n",
       "      <th>BUILDING CLASS CATEGORY</th>\n",
       "      <th>TAX CLASS AT PRESENT</th>\n",
       "      <th>BLOCK</th>\n",
       "      <th>LOT</th>\n",
       "      <th>BUILDING CLASS AT PRESENT</th>\n",
       "      <th>ADDRESS</th>\n",
       "      <th>ZIP CODE</th>\n",
       "      <th>RESIDENTIAL UNITS</th>\n",
       "      <th>COMMERCIAL UNITS</th>\n",
       "      <th>TOTAL UNITS</th>\n",
       "      <th>LAND SQUARE FEET</th>\n",
       "      <th>GROSS SQUARE FEET</th>\n",
       "      <th>YEAR BUILT</th>\n",
       "    </tr>\n",
       "  </thead>\n",
       "  <tbody>\n",
       "    <tr>\n",
       "      <th>0</th>\n",
       "      <td>4</td>\n",
       "      <td>ARVERNE</td>\n",
       "      <td>03  3-FAMILY</td>\n",
       "      <td>1</td>\n",
       "      <td>15910</td>\n",
       "      <td>29</td>\n",
       "      <td>C0</td>\n",
       "      <td>324 BEACH 66 STREET</td>\n",
       "      <td>11692</td>\n",
       "      <td>3</td>\n",
       "      <td>0</td>\n",
       "      <td>3</td>\n",
       "      <td>3,650</td>\n",
       "      <td>3,171</td>\n",
       "      <td>1998</td>\n",
       "    </tr>\n",
       "    <tr>\n",
       "      <th>1</th>\n",
       "      <td>4</td>\n",
       "      <td>ARVERNE</td>\n",
       "      <td>03  3-FAMILY</td>\n",
       "      <td>1</td>\n",
       "      <td>15910</td>\n",
       "      <td>31</td>\n",
       "      <td>C0</td>\n",
       "      <td>328 BEACH 66 STREET</td>\n",
       "      <td>11692</td>\n",
       "      <td>3</td>\n",
       "      <td>0</td>\n",
       "      <td>3</td>\n",
       "      <td>2,217</td>\n",
       "      <td>3,171</td>\n",
       "      <td>1998</td>\n",
       "    </tr>\n",
       "    <tr>\n",
       "      <th>2</th>\n",
       "      <td>4</td>\n",
       "      <td>ARVERNE</td>\n",
       "      <td>03  3-FAMILY</td>\n",
       "      <td>1</td>\n",
       "      <td>15910</td>\n",
       "      <td>32</td>\n",
       "      <td>C0</td>\n",
       "      <td>330 BEACH 66 STREET</td>\n",
       "      <td>11692</td>\n",
       "      <td>3</td>\n",
       "      <td>0</td>\n",
       "      <td>3</td>\n",
       "      <td>3,233</td>\n",
       "      <td>3,171</td>\n",
       "      <td>1998</td>\n",
       "    </tr>\n",
       "    <tr>\n",
       "      <th>3</th>\n",
       "      <td>4</td>\n",
       "      <td>ARVERNE</td>\n",
       "      <td>03  3-FAMILY</td>\n",
       "      <td>1</td>\n",
       "      <td>15910</td>\n",
       "      <td>57</td>\n",
       "      <td>C0</td>\n",
       "      <td>3-29 BEACH 65 STREET</td>\n",
       "      <td>11692</td>\n",
       "      <td>3</td>\n",
       "      <td>0</td>\n",
       "      <td>3</td>\n",
       "      <td>14,270</td>\n",
       "      <td>3,000</td>\n",
       "      <td>2006</td>\n",
       "    </tr>\n",
       "    <tr>\n",
       "      <th>4</th>\n",
       "      <td>4</td>\n",
       "      <td>ARVERNE</td>\n",
       "      <td>03  3-FAMILY</td>\n",
       "      <td>1</td>\n",
       "      <td>15910</td>\n",
       "      <td>64</td>\n",
       "      <td>C0</td>\n",
       "      <td>3-17 BEACH 65 STREET</td>\n",
       "      <td>11692</td>\n",
       "      <td>3</td>\n",
       "      <td>0</td>\n",
       "      <td>3</td>\n",
       "      <td>4,000</td>\n",
       "      <td>3,000</td>\n",
       "      <td>2005</td>\n",
       "    </tr>\n",
       "  </tbody>\n",
       "</table>\n",
       "</div>"
      ],
      "text/plain": [
       "   BOROUGH               NEIGHBORHOOD  \\\n",
       "0        4  ARVERNE                     \n",
       "1        4  ARVERNE                     \n",
       "2        4  ARVERNE                     \n",
       "3        4  ARVERNE                     \n",
       "4        4  ARVERNE                     \n",
       "\n",
       "                        BUILDING CLASS CATEGORY TAX CLASS AT PRESENT  BLOCK  \\\n",
       "0  03  3-FAMILY                                                    1  15910   \n",
       "1  03  3-FAMILY                                                    1  15910   \n",
       "2  03  3-FAMILY                                                    1  15910   \n",
       "3  03  3-FAMILY                                                    1  15910   \n",
       "4  03  3-FAMILY                                                    1  15910   \n",
       "\n",
       "   LOT BUILDING CLASS AT PRESENT                                    ADDRESS  \\\n",
       "0   29                        C0  324 BEACH 66 STREET                         \n",
       "1   31                        C0  328 BEACH 66 STREET                         \n",
       "2   32                        C0  330 BEACH 66 STREET                         \n",
       "3   57                        C0  3-29 BEACH 65 STREET                        \n",
       "4   64                        C0  3-17 BEACH 65 STREET                        \n",
       "\n",
       "   ZIP CODE   RESIDENTIAL UNITS    COMMERCIAL UNITS    TOTAL UNITS   \\\n",
       "0     11692                    3                   0              3   \n",
       "1     11692                    3                   0              3   \n",
       "2     11692                    3                   0              3   \n",
       "3     11692                    3                   0              3   \n",
       "4     11692                    3                   0              3   \n",
       "\n",
       "   LAND SQUARE FEET   GROSS SQUARE FEET   YEAR BUILT  \n",
       "0              3,650               3,171        1998  \n",
       "1              2,217               3,171        1998  \n",
       "2              3,233               3,171        1998  \n",
       "3             14,270               3,000        2006  \n",
       "4              4,000               3,000        2005  "
      ]
     },
     "execution_count": 264,
     "metadata": {},
     "output_type": "execute_result"
    }
   ],
   "source": [
    "df.head()"
   ]
  },
  {
   "cell_type": "code",
   "execution_count": 265,
   "metadata": {},
   "outputs": [
    {
     "data": {
      "text/plain": [
       "Index(['BOROUGH', 'NEIGHBORHOOD', 'BUILDING CLASS CATEGORY',\n",
       "       'TAX CLASS AT PRESENT', 'BLOCK', 'LOT', 'BUILDING CLASS AT PRESENT',\n",
       "       'ADDRESS', 'ZIP CODE', ' RESIDENTIAL UNITS ', ' COMMERCIAL UNITS ',\n",
       "       ' TOTAL UNITS ', ' LAND SQUARE FEET ', ' GROSS SQUARE FEET ',\n",
       "       'YEAR BUILT'],\n",
       "      dtype='object')"
      ]
     },
     "execution_count": 265,
     "metadata": {},
     "output_type": "execute_result"
    }
   ],
   "source": [
    "df.columns"
   ]
  },
  {
   "cell_type": "code",
   "execution_count": 266,
   "metadata": {},
   "outputs": [],
   "source": [
    "# drop columns\n",
    "dfDrop = df.drop(['NEIGHBORHOOD', 'BUILDING CLASS CATEGORY', 'TAX CLASS AT PRESENT', 'BLOCK', 'LOT', \n",
    "        'BUILDING CLASS AT PRESENT',' COMMERCIAL UNITS ', ' TOTAL UNITS ', \n",
    "        ' LAND SQUARE FEET ', ' GROSS SQUARE FEET ',\n",
    "       'YEAR BUILT'], axis=1)"
   ]
  },
  {
   "cell_type": "code",
   "execution_count": 267,
   "metadata": {},
   "outputs": [
    {
     "data": {
      "text/html": [
       "<div>\n",
       "<table border=\"1\" class=\"dataframe\">\n",
       "  <thead>\n",
       "    <tr style=\"text-align: right;\">\n",
       "      <th></th>\n",
       "      <th>BOROUGH</th>\n",
       "      <th>ADDRESS</th>\n",
       "      <th>ZIP CODE</th>\n",
       "      <th>RESIDENTIAL UNITS</th>\n",
       "    </tr>\n",
       "  </thead>\n",
       "  <tbody>\n",
       "    <tr>\n",
       "      <th>0</th>\n",
       "      <td>4</td>\n",
       "      <td>324 BEACH 66 STREET</td>\n",
       "      <td>11692</td>\n",
       "      <td>3</td>\n",
       "    </tr>\n",
       "    <tr>\n",
       "      <th>1</th>\n",
       "      <td>4</td>\n",
       "      <td>328 BEACH 66 STREET</td>\n",
       "      <td>11692</td>\n",
       "      <td>3</td>\n",
       "    </tr>\n",
       "    <tr>\n",
       "      <th>2</th>\n",
       "      <td>4</td>\n",
       "      <td>330 BEACH 66 STREET</td>\n",
       "      <td>11692</td>\n",
       "      <td>3</td>\n",
       "    </tr>\n",
       "    <tr>\n",
       "      <th>3</th>\n",
       "      <td>4</td>\n",
       "      <td>3-29 BEACH 65 STREET</td>\n",
       "      <td>11692</td>\n",
       "      <td>3</td>\n",
       "    </tr>\n",
       "    <tr>\n",
       "      <th>4</th>\n",
       "      <td>4</td>\n",
       "      <td>3-17 BEACH 65 STREET</td>\n",
       "      <td>11692</td>\n",
       "      <td>3</td>\n",
       "    </tr>\n",
       "  </tbody>\n",
       "</table>\n",
       "</div>"
      ],
      "text/plain": [
       "   BOROUGH                                    ADDRESS  ZIP CODE  \\\n",
       "0        4  324 BEACH 66 STREET                           11692   \n",
       "1        4  328 BEACH 66 STREET                           11692   \n",
       "2        4  330 BEACH 66 STREET                           11692   \n",
       "3        4  3-29 BEACH 65 STREET                          11692   \n",
       "4        4  3-17 BEACH 65 STREET                          11692   \n",
       "\n",
       "    RESIDENTIAL UNITS   \n",
       "0                    3  \n",
       "1                    3  \n",
       "2                    3  \n",
       "3                    3  \n",
       "4                    3  "
      ]
     },
     "execution_count": 267,
     "metadata": {},
     "output_type": "execute_result"
    }
   ],
   "source": [
    "dfDrop.head()"
   ]
  },
  {
   "cell_type": "code",
   "execution_count": 268,
   "metadata": {},
   "outputs": [],
   "source": [
    "#Sum up the number of residential units per address\n",
    "\n",
    "unitSum = dfDrop.groupby('ADDRESS')[' RESIDENTIAL UNITS '].sum()"
   ]
  },
  {
   "cell_type": "code",
   "execution_count": 269,
   "metadata": {},
   "outputs": [
    {
     "data": {
      "text/plain": [
       "ADDRESS\n",
       "1-58 BEACH 91 STREET                          3\n",
       "1-60 BEACH 101 STREET                         3\n",
       "1-60 BEACH 91 STREET                          3\n",
       "1-64 BEACH 101 STREET                         3\n",
       "1-68 BEACH 101 STREET                         3\n",
       "1-71 BEACH 91 STREET                          3\n",
       "1-72 BEACH 101 STREET                         3\n",
       "1-73 BEACH 91 STREET                          3\n",
       "1-74 BEACH 102 STREET                         3\n",
       "1-75 BEACH 91 STREET                          3\n",
       "1-76 BEACH 101 STREET                         3\n",
       "1-76 BEACH 102 STREET                         3\n",
       "1-77 BEACH 91 STREET                          3\n",
       "1-78 BEACH 102 STREET                         3\n",
       "1-80 BEACH 101 STREET                         3\n",
       "1-84 BEACH 101 STREET                         3\n",
       "1-88 BEACH 101 STREET                         3\n",
       "10-12 47 AVENUE                               7\n",
       "10-17 JACKSON AVENUE                         32\n",
       "10-19 NEILSON STREET                          3\n",
       "10-21 NEILSON STREET                          3\n",
       "10-23 NEILSON STREET                          3\n",
       "10-25 47 ROAD                                 7\n",
       "10-25 NEILSON STREET                          3\n",
       "10-27 NEILSON STREET                          3\n",
       "10-28 JACKSON AVENUE                         24\n",
       "10-29 NEILSON STREET                          3\n",
       "10-31 NEILSON STREET                          3\n",
       "10-40 46 ROAD                                23\n",
       "10-43 47 AVENUE                              13\n",
       "                                             ..\n",
       "97-58 108 STREET                              3\n",
       "97-60 101 STREET                              3\n",
       "97-60 108 STREET                              3\n",
       "99-05 ALBERT ROAD                             5\n",
       "99-06 43 AVENUE                               3\n",
       "99-08 43 AVENUE                               3\n",
       "99-10 43 AVENUE                               3\n",
       "99-11 CORONA AVENUE                           3\n",
       "99-12 97 STREET                               3\n",
       "99-13 CORONA AVENUE                           3\n",
       "99-15 62 ROAD                                 3\n",
       "99-15 CORONA AVENUE                           3\n",
       "99-15 NORTHERN BOULEVARD                      6\n",
       "99-16 CORONA AVENUE                           3\n",
       "99-17 CORONA AVENUE                           3\n",
       "99-18 CORONA AVENUE                           3\n",
       "99-22 67 ROAD                                29\n",
       "99-25 CORONA AVENUE                           4\n",
       "99-27 CORONA AVENUE                           4\n",
       "99-28 63 AVENUE                               3\n",
       "99-30 63 AVENUE                               3\n",
       "99-31 66 AVENUE                              22\n",
       "99-32 62 AVENUE                               3\n",
       "99-32 63 AVENUE                               3\n",
       "99-34 62 AVENUE                               3\n",
       "99-39 66 AVENUE                              38\n",
       "99-44 63 AVENUE                               3\n",
       "99-47 63 ROAD                                 5\n",
       "CONSTITUTION PLACE                            0\n",
       "CONSTITUTUION PLACE                           0\n",
       "Name:  RESIDENTIAL UNITS , dtype: int64"
      ]
     },
     "execution_count": 269,
     "metadata": {},
     "output_type": "execute_result"
    }
   ],
   "source": [
    "unitSum"
   ]
  },
  {
   "cell_type": "code",
   "execution_count": 270,
   "metadata": {},
   "outputs": [],
   "source": [
    "#Isolate and sort unique addresses\n",
    "\n",
    "addresses = dfDrop.ADDRESS.unique()\n",
    "addresses.sort()"
   ]
  },
  {
   "cell_type": "code",
   "execution_count": 271,
   "metadata": {},
   "outputs": [
    {
     "data": {
      "text/plain": [
       "array(['1-58 BEACH 91 STREET                     ',\n",
       "       '1-60 BEACH 101 STREET                    ',\n",
       "       '1-60 BEACH 91 STREET                     ', ...,\n",
       "       '99-47 63 ROAD                            ',\n",
       "       'CONSTITUTION PLACE                       ',\n",
       "       'CONSTITUTUION PLACE                      '], dtype=object)"
      ]
     },
     "execution_count": 271,
     "metadata": {},
     "output_type": "execute_result"
    }
   ],
   "source": [
    "addresses"
   ]
  },
  {
   "cell_type": "code",
   "execution_count": 272,
   "metadata": {},
   "outputs": [
    {
     "data": {
      "text/plain": [
       "0"
      ]
     },
     "execution_count": 272,
     "metadata": {},
     "output_type": "execute_result"
    }
   ],
   "source": [
    "#confirm that the series are of the same length. Output should be 0\n",
    "\n",
    "len(addresses) - len(unitSum)"
   ]
  },
  {
   "cell_type": "code",
   "execution_count": 273,
   "metadata": {},
   "outputs": [],
   "source": [
    "#Make new DF with both fields\n",
    "\n",
    "dfNew = pd.DataFrame(columns=['address', 'unitCount'])"
   ]
  },
  {
   "cell_type": "code",
   "execution_count": 274,
   "metadata": {},
   "outputs": [],
   "source": [
    "# Make list of unitSum for appending to dataframe\n",
    "\n",
    "countList = []\n",
    "for i in range(len(unitSum)):\n",
    "    C = unitSum[i]\n",
    "    countList.append(C)"
   ]
  },
  {
   "cell_type": "code",
   "execution_count": 275,
   "metadata": {},
   "outputs": [],
   "source": [
    "# Add unique addresses to DF\n",
    "\n",
    "dfNew['address'] = addresses\n",
    "dfNew['unitCount'] = countList"
   ]
  },
  {
   "cell_type": "code",
   "execution_count": 276,
   "metadata": {},
   "outputs": [],
   "source": [
    "dfNewClean = dfNew[dfNew['address'] != '                                         ']\n",
    "dfClean = dfNewClean[dfNewClean['unitCount'] != 0]"
   ]
  },
  {
   "cell_type": "code",
   "execution_count": 277,
   "metadata": {},
   "outputs": [
    {
     "data": {
      "text/html": [
       "<div>\n",
       "<table border=\"1\" class=\"dataframe\">\n",
       "  <thead>\n",
       "    <tr style=\"text-align: right;\">\n",
       "      <th></th>\n",
       "      <th>address</th>\n",
       "      <th>unitCount</th>\n",
       "    </tr>\n",
       "  </thead>\n",
       "  <tbody>\n",
       "    <tr>\n",
       "      <th>0</th>\n",
       "      <td>1-58 BEACH 91 STREET</td>\n",
       "      <td>3</td>\n",
       "    </tr>\n",
       "    <tr>\n",
       "      <th>1</th>\n",
       "      <td>1-60 BEACH 101 STREET</td>\n",
       "      <td>3</td>\n",
       "    </tr>\n",
       "    <tr>\n",
       "      <th>2</th>\n",
       "      <td>1-60 BEACH 91 STREET</td>\n",
       "      <td>3</td>\n",
       "    </tr>\n",
       "    <tr>\n",
       "      <th>3</th>\n",
       "      <td>1-64 BEACH 101 STREET</td>\n",
       "      <td>3</td>\n",
       "    </tr>\n",
       "    <tr>\n",
       "      <th>4</th>\n",
       "      <td>1-68 BEACH 101 STREET</td>\n",
       "      <td>3</td>\n",
       "    </tr>\n",
       "  </tbody>\n",
       "</table>\n",
       "</div>"
      ],
      "text/plain": [
       "                                     address  unitCount\n",
       "0  1-58 BEACH 91 STREET                               3\n",
       "1  1-60 BEACH 101 STREET                              3\n",
       "2  1-60 BEACH 91 STREET                               3\n",
       "3  1-64 BEACH 101 STREET                              3\n",
       "4  1-68 BEACH 101 STREET                              3"
      ]
     },
     "execution_count": 277,
     "metadata": {},
     "output_type": "execute_result"
    }
   ],
   "source": [
    "dfClean.head()"
   ]
  },
  {
   "cell_type": "code",
   "execution_count": 278,
   "metadata": {},
   "outputs": [],
   "source": [
    "# Merge old dataframe info (zipcode, borough) onto new dataframe\n",
    "\n",
    "dfMerge = dfClean.merge(dfDrop, left_on='address', right_on='ADDRESS', how='left')"
   ]
  },
  {
   "cell_type": "code",
   "execution_count": 279,
   "metadata": {},
   "outputs": [
    {
     "data": {
      "text/html": [
       "<div>\n",
       "<table border=\"1\" class=\"dataframe\">\n",
       "  <thead>\n",
       "    <tr style=\"text-align: right;\">\n",
       "      <th></th>\n",
       "      <th>address</th>\n",
       "      <th>unitCount</th>\n",
       "      <th>BOROUGH</th>\n",
       "      <th>ADDRESS</th>\n",
       "      <th>ZIP CODE</th>\n",
       "      <th>RESIDENTIAL UNITS</th>\n",
       "    </tr>\n",
       "  </thead>\n",
       "  <tbody>\n",
       "    <tr>\n",
       "      <th>0</th>\n",
       "      <td>1-58 BEACH 91 STREET</td>\n",
       "      <td>3</td>\n",
       "      <td>4</td>\n",
       "      <td>1-58 BEACH 91 STREET</td>\n",
       "      <td>11693</td>\n",
       "      <td>3</td>\n",
       "    </tr>\n",
       "    <tr>\n",
       "      <th>1</th>\n",
       "      <td>1-60 BEACH 101 STREET</td>\n",
       "      <td>3</td>\n",
       "      <td>4</td>\n",
       "      <td>1-60 BEACH 101 STREET</td>\n",
       "      <td>11694</td>\n",
       "      <td>1</td>\n",
       "    </tr>\n",
       "    <tr>\n",
       "      <th>2</th>\n",
       "      <td>1-60 BEACH 101 STREET</td>\n",
       "      <td>3</td>\n",
       "      <td>4</td>\n",
       "      <td>1-60 BEACH 101 STREET</td>\n",
       "      <td>11694</td>\n",
       "      <td>1</td>\n",
       "    </tr>\n",
       "    <tr>\n",
       "      <th>3</th>\n",
       "      <td>1-60 BEACH 101 STREET</td>\n",
       "      <td>3</td>\n",
       "      <td>4</td>\n",
       "      <td>1-60 BEACH 101 STREET</td>\n",
       "      <td>11694</td>\n",
       "      <td>1</td>\n",
       "    </tr>\n",
       "    <tr>\n",
       "      <th>4</th>\n",
       "      <td>1-60 BEACH 91 STREET</td>\n",
       "      <td>3</td>\n",
       "      <td>4</td>\n",
       "      <td>1-60 BEACH 91 STREET</td>\n",
       "      <td>11693</td>\n",
       "      <td>3</td>\n",
       "    </tr>\n",
       "  </tbody>\n",
       "</table>\n",
       "</div>"
      ],
      "text/plain": [
       "                                     address  unitCount  BOROUGH  \\\n",
       "0  1-58 BEACH 91 STREET                               3        4   \n",
       "1  1-60 BEACH 101 STREET                              3        4   \n",
       "2  1-60 BEACH 101 STREET                              3        4   \n",
       "3  1-60 BEACH 101 STREET                              3        4   \n",
       "4  1-60 BEACH 91 STREET                               3        4   \n",
       "\n",
       "                                     ADDRESS  ZIP CODE   RESIDENTIAL UNITS   \n",
       "0  1-58 BEACH 91 STREET                          11693                    3  \n",
       "1  1-60 BEACH 101 STREET                         11694                    1  \n",
       "2  1-60 BEACH 101 STREET                         11694                    1  \n",
       "3  1-60 BEACH 101 STREET                         11694                    1  \n",
       "4  1-60 BEACH 91 STREET                          11693                    3  "
      ]
     },
     "execution_count": 279,
     "metadata": {},
     "output_type": "execute_result"
    }
   ],
   "source": [
    "dfMerge.head()"
   ]
  },
  {
   "cell_type": "code",
   "execution_count": 280,
   "metadata": {},
   "outputs": [],
   "source": [
    "# Drop unnecessary columns\n",
    "\n",
    "dfFinal = dfMerge.drop(['ADDRESS', ' RESIDENTIAL UNITS '], axis=1)"
   ]
  },
  {
   "cell_type": "code",
   "execution_count": 281,
   "metadata": {},
   "outputs": [],
   "source": [
    "# Drop duplicate addresses\n",
    "\n",
    "dfFinalDrop = dfFinal.drop_duplicates('address')"
   ]
  },
  {
   "cell_type": "code",
   "execution_count": 282,
   "metadata": {},
   "outputs": [
    {
     "data": {
      "text/html": [
       "<div>\n",
       "<table border=\"1\" class=\"dataframe\">\n",
       "  <thead>\n",
       "    <tr style=\"text-align: right;\">\n",
       "      <th></th>\n",
       "      <th>address</th>\n",
       "      <th>unitCount</th>\n",
       "      <th>BOROUGH</th>\n",
       "      <th>ZIP CODE</th>\n",
       "    </tr>\n",
       "  </thead>\n",
       "  <tbody>\n",
       "    <tr>\n",
       "      <th>0</th>\n",
       "      <td>1-58 BEACH 91 STREET</td>\n",
       "      <td>3</td>\n",
       "      <td>4</td>\n",
       "      <td>11693</td>\n",
       "    </tr>\n",
       "    <tr>\n",
       "      <th>1</th>\n",
       "      <td>1-60 BEACH 101 STREET</td>\n",
       "      <td>3</td>\n",
       "      <td>4</td>\n",
       "      <td>11694</td>\n",
       "    </tr>\n",
       "    <tr>\n",
       "      <th>4</th>\n",
       "      <td>1-60 BEACH 91 STREET</td>\n",
       "      <td>3</td>\n",
       "      <td>4</td>\n",
       "      <td>11693</td>\n",
       "    </tr>\n",
       "    <tr>\n",
       "      <th>5</th>\n",
       "      <td>1-64 BEACH 101 STREET</td>\n",
       "      <td>3</td>\n",
       "      <td>4</td>\n",
       "      <td>11694</td>\n",
       "    </tr>\n",
       "    <tr>\n",
       "      <th>8</th>\n",
       "      <td>1-68 BEACH 101 STREET</td>\n",
       "      <td>3</td>\n",
       "      <td>4</td>\n",
       "      <td>11694</td>\n",
       "    </tr>\n",
       "  </tbody>\n",
       "</table>\n",
       "</div>"
      ],
      "text/plain": [
       "                                     address  unitCount  BOROUGH  ZIP CODE\n",
       "0  1-58 BEACH 91 STREET                               3        4     11693\n",
       "1  1-60 BEACH 101 STREET                              3        4     11694\n",
       "4  1-60 BEACH 91 STREET                               3        4     11693\n",
       "5  1-64 BEACH 101 STREET                              3        4     11694\n",
       "8  1-68 BEACH 101 STREET                              3        4     11694"
      ]
     },
     "execution_count": 282,
     "metadata": {},
     "output_type": "execute_result"
    }
   ],
   "source": [
    "# Final Product\n",
    "\n",
    "dfFinalDrop.head()"
   ]
  },
  {
   "cell_type": "code",
   "execution_count": 283,
   "metadata": {},
   "outputs": [],
   "source": [
    "#Export to CSV\n",
    "dfFinalDrop.to_csv('dfQueens', index=False)"
   ]
  },
  {
   "cell_type": "markdown",
   "metadata": {},
   "source": [
    "---"
   ]
  },
  {
   "cell_type": "markdown",
   "metadata": {},
   "source": [
    "# Combine individual borough CSV files into one massive file"
   ]
  },
  {
   "cell_type": "code",
   "execution_count": 3,
   "metadata": {},
   "outputs": [],
   "source": [
    "dfMan = pd.read_csv('dfManhattan')\n",
    "dfBX = pd.read_csv('dfBronx')\n",
    "dfBK = pd.read_csv('dfBrooklyn')\n",
    "dfQueens = pd.read_csv('dfQueens')\n",
    "dfSI = pd.read_csv('dfStatenIsland')"
   ]
  },
  {
   "cell_type": "code",
   "execution_count": 4,
   "metadata": {},
   "outputs": [],
   "source": [
    "# concat the dfs together to make final df\n",
    "\n",
    "df421a = pd.concat([dfMan, dfBX, dfBK, dfQueens, dfSI], ignore_index=True)"
   ]
  },
  {
   "cell_type": "code",
   "execution_count": 5,
   "metadata": {},
   "outputs": [
    {
     "data": {
      "text/plain": [
       "0"
      ]
     },
     "execution_count": 5,
     "metadata": {},
     "output_type": "execute_result"
    }
   ],
   "source": [
    "#Confirm that concatenated dataframe is same length as each individual df\n",
    "\n",
    "len(df421a) - (len(dfMan) + len(dfBX) + len(dfBK) + len(dfQueens) + len(dfSI))"
   ]
  },
  {
   "cell_type": "code",
   "execution_count": 6,
   "metadata": {},
   "outputs": [
    {
     "data": {
      "text/html": [
       "<div>\n",
       "<table border=\"1\" class=\"dataframe\">\n",
       "  <thead>\n",
       "    <tr style=\"text-align: right;\">\n",
       "      <th></th>\n",
       "      <th>address</th>\n",
       "      <th>unitCount</th>\n",
       "      <th>BOROUGH</th>\n",
       "      <th>ZIP CODE</th>\n",
       "    </tr>\n",
       "  </thead>\n",
       "  <tbody>\n",
       "    <tr>\n",
       "      <th>10587</th>\n",
       "      <td>801 NARROWS ROAD NORTH</td>\n",
       "      <td>79</td>\n",
       "      <td>5</td>\n",
       "      <td>10304</td>\n",
       "    </tr>\n",
       "    <tr>\n",
       "      <th>10588</th>\n",
       "      <td>85 MONTGOMERY AVENUE</td>\n",
       "      <td>5</td>\n",
       "      <td>5</td>\n",
       "      <td>10301</td>\n",
       "    </tr>\n",
       "    <tr>\n",
       "      <th>10589</th>\n",
       "      <td>89 MAPLE AVENUE</td>\n",
       "      <td>3</td>\n",
       "      <td>5</td>\n",
       "      <td>10302</td>\n",
       "    </tr>\n",
       "    <tr>\n",
       "      <th>10590</th>\n",
       "      <td>91 MAPLE AVENUE</td>\n",
       "      <td>3</td>\n",
       "      <td>5</td>\n",
       "      <td>10302</td>\n",
       "    </tr>\n",
       "    <tr>\n",
       "      <th>10591</th>\n",
       "      <td>97 VICTORY BOULEVARD</td>\n",
       "      <td>4</td>\n",
       "      <td>5</td>\n",
       "      <td>10301</td>\n",
       "    </tr>\n",
       "  </tbody>\n",
       "</table>\n",
       "</div>"
      ],
      "text/plain": [
       "                                         address  unitCount  BOROUGH  ZIP CODE\n",
       "10587  801 NARROWS ROAD NORTH                            79        5     10304\n",
       "10588  85 MONTGOMERY AVENUE                               5        5     10301\n",
       "10589  89 MAPLE AVENUE                                    3        5     10302\n",
       "10590  91 MAPLE AVENUE                                    3        5     10302\n",
       "10591  97 VICTORY BOULEVARD                               4        5     10301"
      ]
     },
     "execution_count": 6,
     "metadata": {},
     "output_type": "execute_result"
    }
   ],
   "source": [
    "df421a.tail()"
   ]
  },
  {
   "cell_type": "code",
   "execution_count": 11,
   "metadata": {},
   "outputs": [],
   "source": [
    "#remove trailing spaces in address\n",
    "\n",
    "addressStrip = []\n",
    "\n",
    "for i in range(len(df421a)):\n",
    "    address = df421a['address'][i].strip()\n",
    "    addressStrip.append(address)"
   ]
  },
  {
   "cell_type": "code",
   "execution_count": 12,
   "metadata": {},
   "outputs": [],
   "source": [
    "df421a.address = addressStrip"
   ]
  },
  {
   "cell_type": "code",
   "execution_count": 41,
   "metadata": {},
   "outputs": [],
   "source": [
    "state = []\n",
    "\n",
    "for i in range(len(df421a)):\n",
    "    state.append(\"NY\")\n",
    "\n",
    "df421a.state = state"
   ]
  },
  {
   "cell_type": "code",
   "execution_count": 42,
   "metadata": {},
   "outputs": [],
   "source": [
    "df421a['state'] = state"
   ]
  },
  {
   "cell_type": "code",
   "execution_count": 37,
   "metadata": {},
   "outputs": [],
   "source": [
    "df421a['newBorough'] = df421a['BOROUGH'].map({1: 'Manhattan', 2: 'Bronx', 3: 'Brooklyn', 4: 'Queens', 5: 'Staten Island'})"
   ]
  },
  {
   "cell_type": "code",
   "execution_count": 43,
   "metadata": {},
   "outputs": [
    {
     "data": {
      "text/html": [
       "<div>\n",
       "<table border=\"1\" class=\"dataframe\">\n",
       "  <thead>\n",
       "    <tr style=\"text-align: right;\">\n",
       "      <th></th>\n",
       "      <th>address</th>\n",
       "      <th>unitCount</th>\n",
       "      <th>BOROUGH</th>\n",
       "      <th>ZIP CODE</th>\n",
       "      <th>state</th>\n",
       "      <th>newBorough</th>\n",
       "    </tr>\n",
       "  </thead>\n",
       "  <tbody>\n",
       "    <tr>\n",
       "      <th>10587</th>\n",
       "      <td>801 NARROWS ROAD NORTH</td>\n",
       "      <td>79</td>\n",
       "      <td>5</td>\n",
       "      <td>10304</td>\n",
       "      <td>NY</td>\n",
       "      <td>Staten Island</td>\n",
       "    </tr>\n",
       "    <tr>\n",
       "      <th>10588</th>\n",
       "      <td>85 MONTGOMERY AVENUE</td>\n",
       "      <td>5</td>\n",
       "      <td>5</td>\n",
       "      <td>10301</td>\n",
       "      <td>NY</td>\n",
       "      <td>Staten Island</td>\n",
       "    </tr>\n",
       "    <tr>\n",
       "      <th>10589</th>\n",
       "      <td>89 MAPLE AVENUE</td>\n",
       "      <td>3</td>\n",
       "      <td>5</td>\n",
       "      <td>10302</td>\n",
       "      <td>NY</td>\n",
       "      <td>Staten Island</td>\n",
       "    </tr>\n",
       "    <tr>\n",
       "      <th>10590</th>\n",
       "      <td>91 MAPLE AVENUE</td>\n",
       "      <td>3</td>\n",
       "      <td>5</td>\n",
       "      <td>10302</td>\n",
       "      <td>NY</td>\n",
       "      <td>Staten Island</td>\n",
       "    </tr>\n",
       "    <tr>\n",
       "      <th>10591</th>\n",
       "      <td>97 VICTORY BOULEVARD</td>\n",
       "      <td>4</td>\n",
       "      <td>5</td>\n",
       "      <td>10301</td>\n",
       "      <td>NY</td>\n",
       "      <td>Staten Island</td>\n",
       "    </tr>\n",
       "  </tbody>\n",
       "</table>\n",
       "</div>"
      ],
      "text/plain": [
       "                      address  unitCount  BOROUGH  ZIP CODE state  \\\n",
       "10587  801 NARROWS ROAD NORTH         79        5     10304    NY   \n",
       "10588    85 MONTGOMERY AVENUE          5        5     10301    NY   \n",
       "10589         89 MAPLE AVENUE          3        5     10302    NY   \n",
       "10590         91 MAPLE AVENUE          3        5     10302    NY   \n",
       "10591    97 VICTORY BOULEVARD          4        5     10301    NY   \n",
       "\n",
       "          newBorough  \n",
       "10587  Staten Island  \n",
       "10588  Staten Island  \n",
       "10589  Staten Island  \n",
       "10590  Staten Island  \n",
       "10591  Staten Island  "
      ]
     },
     "execution_count": 43,
     "metadata": {},
     "output_type": "execute_result"
    }
   ],
   "source": [
    "df421a.tail()"
   ]
  },
  {
   "cell_type": "code",
   "execution_count": 44,
   "metadata": {},
   "outputs": [],
   "source": [
    "#Export to CSV\n",
    "df421a.to_csv('421a Final w State', index=False)"
   ]
  }
 ],
 "metadata": {
  "kernelspec": {
   "display_name": "PUI2016_Python3",
   "language": "python",
   "name": "pui2016_python3"
  },
  "language_info": {
   "codemirror_mode": {
    "name": "ipython",
    "version": 3
   },
   "file_extension": ".py",
   "mimetype": "text/x-python",
   "name": "python",
   "nbconvert_exporter": "python",
   "pygments_lexer": "ipython3",
   "version": "3.5.4"
  }
 },
 "nbformat": 4,
 "nbformat_minor": 2
}
